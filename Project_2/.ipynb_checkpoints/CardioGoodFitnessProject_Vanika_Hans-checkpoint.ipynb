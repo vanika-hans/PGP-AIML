{
 "cells": [
  {
   "cell_type": "markdown",
   "metadata": {},
   "source": [
    "# Cardio Good Fitness Project! - by Vanika Hans"
   ]
  },
  {
   "cell_type": "markdown",
   "metadata": {},
   "source": [
    "The purpose of this project is to explore the given dataset to identify overall patterns, come up with a customer profile for each product, perform uni-, bi-, and multi-variate analysis, and most of all gain exposure to Python while applying several concepts covered so far in class. The goal is to eventually identify differences between customers of each product and provide recommendations to the company. The dataset contains the following:\n",
    "<ul>\n",
    "<li>Product - the model no. of the treadmill</li>  \n",
    "<li>Age - in no of years, of the customer</li>   \n",
    "<li>Gender - of the customer</li>   \n",
    "<li>Education - in no. of years, of the customer</li>   \n",
    "<li>Marital Status - of the customer</li>   \n",
    "<li>Usage - Avg. # times the customer wants to use the treadmill every week</li>      \n",
    "<li>Fitness - Self rated fitness score of the customer (5 - very fit, 1 - very unfit)</li>   \n",
    "<li>Income - of the customer</li>   \n",
    "<li>Miles- expected to run</li>   \n",
    "</ul>\n",
    "\n",
    "We will begin the analysis by setting up basic necessary libraries in the notebook:"
   ]
  },
  {
   "cell_type": "markdown",
   "metadata": {},
   "source": [
    "### 1] Import the libraries"
   ]
  },
  {
   "cell_type": "code",
   "execution_count": 283,
   "metadata": {},
   "outputs": [],
   "source": [
    "import pandas as pd\n",
    "import numpy as np\n",
    "import seaborn as sns\n",
    "import matplotlib.pyplot as plt\n",
    "%matplotlib inline\n",
    "import warnings\n",
    "warnings.filterwarnings('ignore')\n",
    "pd.set_option('display.float_format', lambda x: '%.5f' % x) # To suppress numerical display in scientific notations"
   ]
  },
  {
   "cell_type": "markdown",
   "metadata": {},
   "source": [
    "### 2] Input the data"
   ]
  },
  {
   "cell_type": "code",
   "execution_count": 284,
   "metadata": {},
   "outputs": [],
   "source": [
    "cardiodata = pd.read_csv('CardioGoodFitness.csv')"
   ]
  },
  {
   "cell_type": "markdown",
   "metadata": {},
   "source": [
    "### 3] Check if any gaps in the data"
   ]
  },
  {
   "cell_type": "code",
   "execution_count": 285,
   "metadata": {},
   "outputs": [
    {
     "data": {
      "text/plain": [
       "Product          0\n",
       "Age              0\n",
       "Gender           0\n",
       "Education        0\n",
       "MaritalStatus    0\n",
       "Usage            0\n",
       "Fitness          0\n",
       "Income           0\n",
       "Miles            0\n",
       "dtype: int64"
      ]
     },
     "execution_count": 285,
     "metadata": {},
     "output_type": "execute_result"
    }
   ],
   "source": [
    "cardiodata.isnull().sum()\n",
    "#data = data.dropna() # drops all missing values in the data -- NOT NECESSARY BC SUM IS 0"
   ]
  },
  {
   "cell_type": "markdown",
   "metadata": {},
   "source": [
    "##### No gaps, so can continue"
   ]
  },
  {
   "cell_type": "markdown",
   "metadata": {},
   "source": [
    "### 4] Gather initial data - head, shape, info"
   ]
  },
  {
   "cell_type": "code",
   "execution_count": 286,
   "metadata": {},
   "outputs": [
    {
     "data": {
      "text/html": [
       "<div>\n",
       "<style scoped>\n",
       "    .dataframe tbody tr th:only-of-type {\n",
       "        vertical-align: middle;\n",
       "    }\n",
       "\n",
       "    .dataframe tbody tr th {\n",
       "        vertical-align: top;\n",
       "    }\n",
       "\n",
       "    .dataframe thead th {\n",
       "        text-align: right;\n",
       "    }\n",
       "</style>\n",
       "<table border=\"1\" class=\"dataframe\">\n",
       "  <thead>\n",
       "    <tr style=\"text-align: right;\">\n",
       "      <th></th>\n",
       "      <th>Product</th>\n",
       "      <th>Age</th>\n",
       "      <th>Gender</th>\n",
       "      <th>Education</th>\n",
       "      <th>MaritalStatus</th>\n",
       "      <th>Usage</th>\n",
       "      <th>Fitness</th>\n",
       "      <th>Income</th>\n",
       "      <th>Miles</th>\n",
       "    </tr>\n",
       "  </thead>\n",
       "  <tbody>\n",
       "    <tr>\n",
       "      <th>0</th>\n",
       "      <td>TM195</td>\n",
       "      <td>18</td>\n",
       "      <td>Male</td>\n",
       "      <td>14</td>\n",
       "      <td>Single</td>\n",
       "      <td>3</td>\n",
       "      <td>4</td>\n",
       "      <td>29562</td>\n",
       "      <td>112</td>\n",
       "    </tr>\n",
       "    <tr>\n",
       "      <th>1</th>\n",
       "      <td>TM195</td>\n",
       "      <td>19</td>\n",
       "      <td>Male</td>\n",
       "      <td>15</td>\n",
       "      <td>Single</td>\n",
       "      <td>2</td>\n",
       "      <td>3</td>\n",
       "      <td>31836</td>\n",
       "      <td>75</td>\n",
       "    </tr>\n",
       "    <tr>\n",
       "      <th>2</th>\n",
       "      <td>TM195</td>\n",
       "      <td>19</td>\n",
       "      <td>Female</td>\n",
       "      <td>14</td>\n",
       "      <td>Partnered</td>\n",
       "      <td>4</td>\n",
       "      <td>3</td>\n",
       "      <td>30699</td>\n",
       "      <td>66</td>\n",
       "    </tr>\n",
       "    <tr>\n",
       "      <th>3</th>\n",
       "      <td>TM195</td>\n",
       "      <td>19</td>\n",
       "      <td>Male</td>\n",
       "      <td>12</td>\n",
       "      <td>Single</td>\n",
       "      <td>3</td>\n",
       "      <td>3</td>\n",
       "      <td>32973</td>\n",
       "      <td>85</td>\n",
       "    </tr>\n",
       "    <tr>\n",
       "      <th>4</th>\n",
       "      <td>TM195</td>\n",
       "      <td>20</td>\n",
       "      <td>Male</td>\n",
       "      <td>13</td>\n",
       "      <td>Partnered</td>\n",
       "      <td>4</td>\n",
       "      <td>2</td>\n",
       "      <td>35247</td>\n",
       "      <td>47</td>\n",
       "    </tr>\n",
       "    <tr>\n",
       "      <th>5</th>\n",
       "      <td>TM195</td>\n",
       "      <td>20</td>\n",
       "      <td>Female</td>\n",
       "      <td>14</td>\n",
       "      <td>Partnered</td>\n",
       "      <td>3</td>\n",
       "      <td>3</td>\n",
       "      <td>32973</td>\n",
       "      <td>66</td>\n",
       "    </tr>\n",
       "    <tr>\n",
       "      <th>6</th>\n",
       "      <td>TM195</td>\n",
       "      <td>21</td>\n",
       "      <td>Female</td>\n",
       "      <td>14</td>\n",
       "      <td>Partnered</td>\n",
       "      <td>3</td>\n",
       "      <td>3</td>\n",
       "      <td>35247</td>\n",
       "      <td>75</td>\n",
       "    </tr>\n",
       "    <tr>\n",
       "      <th>7</th>\n",
       "      <td>TM195</td>\n",
       "      <td>21</td>\n",
       "      <td>Male</td>\n",
       "      <td>13</td>\n",
       "      <td>Single</td>\n",
       "      <td>3</td>\n",
       "      <td>3</td>\n",
       "      <td>32973</td>\n",
       "      <td>85</td>\n",
       "    </tr>\n",
       "    <tr>\n",
       "      <th>8</th>\n",
       "      <td>TM195</td>\n",
       "      <td>21</td>\n",
       "      <td>Male</td>\n",
       "      <td>15</td>\n",
       "      <td>Single</td>\n",
       "      <td>5</td>\n",
       "      <td>4</td>\n",
       "      <td>35247</td>\n",
       "      <td>141</td>\n",
       "    </tr>\n",
       "    <tr>\n",
       "      <th>9</th>\n",
       "      <td>TM195</td>\n",
       "      <td>21</td>\n",
       "      <td>Female</td>\n",
       "      <td>15</td>\n",
       "      <td>Partnered</td>\n",
       "      <td>2</td>\n",
       "      <td>3</td>\n",
       "      <td>37521</td>\n",
       "      <td>85</td>\n",
       "    </tr>\n",
       "  </tbody>\n",
       "</table>\n",
       "</div>"
      ],
      "text/plain": [
       "  Product  Age  Gender  Education MaritalStatus  Usage  Fitness  Income  Miles\n",
       "0   TM195   18    Male         14        Single      3        4   29562    112\n",
       "1   TM195   19    Male         15        Single      2        3   31836     75\n",
       "2   TM195   19  Female         14     Partnered      4        3   30699     66\n",
       "3   TM195   19    Male         12        Single      3        3   32973     85\n",
       "4   TM195   20    Male         13     Partnered      4        2   35247     47\n",
       "5   TM195   20  Female         14     Partnered      3        3   32973     66\n",
       "6   TM195   21  Female         14     Partnered      3        3   35247     75\n",
       "7   TM195   21    Male         13        Single      3        3   32973     85\n",
       "8   TM195   21    Male         15        Single      5        4   35247    141\n",
       "9   TM195   21  Female         15     Partnered      2        3   37521     85"
      ]
     },
     "execution_count": 286,
     "metadata": {},
     "output_type": "execute_result"
    }
   ],
   "source": [
    "cardiodata.head(10)"
   ]
  },
  {
   "cell_type": "code",
   "execution_count": 287,
   "metadata": {},
   "outputs": [
    {
     "data": {
      "text/plain": [
       "(180, 9)"
      ]
     },
     "execution_count": 287,
     "metadata": {},
     "output_type": "execute_result"
    }
   ],
   "source": [
    "cardiodata.shape"
   ]
  },
  {
   "cell_type": "code",
   "execution_count": 288,
   "metadata": {},
   "outputs": [
    {
     "data": {
      "text/plain": [
       "Product          object\n",
       "Age               int64\n",
       "Gender           object\n",
       "Education         int64\n",
       "MaritalStatus    object\n",
       "Usage             int64\n",
       "Fitness           int64\n",
       "Income            int64\n",
       "Miles             int64\n",
       "dtype: object"
      ]
     },
     "execution_count": 288,
     "metadata": {},
     "output_type": "execute_result"
    }
   ],
   "source": [
    "cardiodata.dtypes"
   ]
  },
  {
   "cell_type": "markdown",
   "metadata": {},
   "source": [
    "#### Observations:\n",
    "  Qualitative data: Product (type of treadmill), Gender, Marital Status   \n",
    "  Quantitative data: Age, Education, Usage, Fitness, Income, Miles   "
   ]
  },
  {
   "cell_type": "markdown",
   "metadata": {},
   "source": [
    "### 5] Creating functions for easy access in analysis:"
   ]
  },
  {
   "cell_type": "code",
   "execution_count": 289,
   "metadata": {},
   "outputs": [],
   "source": [
    "def pretty_distribution_curve(dataset,series):\n",
    "    f, (ax_box,ax_hist) = plt.subplots(2, sharex=True, gridspec_kw= {\"height_ratios\": (0.2, 1)})\n",
    "    mean=dataset[series].mean()\n",
    "    median=dataset[series].median()\n",
    "    mode=dataset[series].mode().tolist()[0]\n",
    "    sns.boxplot(dataset[series], ax=ax_box)\n",
    "    ax_box.axvline(mean, color='r', linestyle='--')\n",
    "    ax_box.axvline(median, color='g', linestyle='-')\n",
    "    ax_box.axvline(mode, color='b', linestyle='-')\n",
    "    sns.distplot(dataset[series],ax=ax_hist).set_title(series)\n",
    "    ax_hist.axvline(mean, color='r', linestyle='--',label=\"mean\")\n",
    "    ax_hist.axvline(median, color='g', linestyle='-',label=\"median\")\n",
    "    ax_hist.axvline(mode, color='b', linestyle='-',label=\"mode\")\n",
    "    plt.legend()\n",
    "    plt.show()\n",
    "    \n",
    "# plt.figure(figsize=(20,10)) # makes the plot wider\n",
    "#plt.hist(data, color='g') # plots a simple histogram ## this line is where we get 4.81 and 9.62 numbers\n",
    "#plt.axvline(data.mean(), color='m', linewidth=1)\n",
    "#plt.axvline(data.median(), color='b', linestyle='dashed', linewidth=1)\n",
    "#plt.axvline(data.mode()[0], color='w', linestyle='dashed', linewidth=1)"
   ]
  },
  {
   "cell_type": "markdown",
   "metadata": {},
   "source": [
    "### 5] UNIVARIATE ANALYSIS: Initial insight onto overall data:"
   ]
  },
  {
   "cell_type": "code",
   "execution_count": 290,
   "metadata": {},
   "outputs": [
    {
     "data": {
      "text/html": [
       "<div>\n",
       "<style scoped>\n",
       "    .dataframe tbody tr th:only-of-type {\n",
       "        vertical-align: middle;\n",
       "    }\n",
       "\n",
       "    .dataframe tbody tr th {\n",
       "        vertical-align: top;\n",
       "    }\n",
       "\n",
       "    .dataframe thead th {\n",
       "        text-align: right;\n",
       "    }\n",
       "</style>\n",
       "<table border=\"1\" class=\"dataframe\">\n",
       "  <thead>\n",
       "    <tr style=\"text-align: right;\">\n",
       "      <th></th>\n",
       "      <th>Age</th>\n",
       "      <th>Education</th>\n",
       "      <th>Usage</th>\n",
       "      <th>Fitness</th>\n",
       "      <th>Income</th>\n",
       "      <th>Miles</th>\n",
       "    </tr>\n",
       "  </thead>\n",
       "  <tbody>\n",
       "    <tr>\n",
       "      <th>count</th>\n",
       "      <td>180.00000</td>\n",
       "      <td>180.00000</td>\n",
       "      <td>180.00000</td>\n",
       "      <td>180.00000</td>\n",
       "      <td>180.00000</td>\n",
       "      <td>180.00000</td>\n",
       "    </tr>\n",
       "    <tr>\n",
       "      <th>mean</th>\n",
       "      <td>28.78889</td>\n",
       "      <td>15.57222</td>\n",
       "      <td>3.45556</td>\n",
       "      <td>3.31111</td>\n",
       "      <td>53719.57778</td>\n",
       "      <td>103.19444</td>\n",
       "    </tr>\n",
       "    <tr>\n",
       "      <th>std</th>\n",
       "      <td>6.94350</td>\n",
       "      <td>1.61705</td>\n",
       "      <td>1.08480</td>\n",
       "      <td>0.95887</td>\n",
       "      <td>16506.68423</td>\n",
       "      <td>51.86360</td>\n",
       "    </tr>\n",
       "    <tr>\n",
       "      <th>min</th>\n",
       "      <td>18.00000</td>\n",
       "      <td>12.00000</td>\n",
       "      <td>2.00000</td>\n",
       "      <td>1.00000</td>\n",
       "      <td>29562.00000</td>\n",
       "      <td>21.00000</td>\n",
       "    </tr>\n",
       "    <tr>\n",
       "      <th>25%</th>\n",
       "      <td>24.00000</td>\n",
       "      <td>14.00000</td>\n",
       "      <td>3.00000</td>\n",
       "      <td>3.00000</td>\n",
       "      <td>44058.75000</td>\n",
       "      <td>66.00000</td>\n",
       "    </tr>\n",
       "    <tr>\n",
       "      <th>50%</th>\n",
       "      <td>26.00000</td>\n",
       "      <td>16.00000</td>\n",
       "      <td>3.00000</td>\n",
       "      <td>3.00000</td>\n",
       "      <td>50596.50000</td>\n",
       "      <td>94.00000</td>\n",
       "    </tr>\n",
       "    <tr>\n",
       "      <th>75%</th>\n",
       "      <td>33.00000</td>\n",
       "      <td>16.00000</td>\n",
       "      <td>4.00000</td>\n",
       "      <td>4.00000</td>\n",
       "      <td>58668.00000</td>\n",
       "      <td>114.75000</td>\n",
       "    </tr>\n",
       "    <tr>\n",
       "      <th>max</th>\n",
       "      <td>50.00000</td>\n",
       "      <td>21.00000</td>\n",
       "      <td>7.00000</td>\n",
       "      <td>5.00000</td>\n",
       "      <td>104581.00000</td>\n",
       "      <td>360.00000</td>\n",
       "    </tr>\n",
       "  </tbody>\n",
       "</table>\n",
       "</div>"
      ],
      "text/plain": [
       "            Age  Education     Usage   Fitness       Income     Miles\n",
       "count 180.00000  180.00000 180.00000 180.00000    180.00000 180.00000\n",
       "mean   28.78889   15.57222   3.45556   3.31111  53719.57778 103.19444\n",
       "std     6.94350    1.61705   1.08480   0.95887  16506.68423  51.86360\n",
       "min    18.00000   12.00000   2.00000   1.00000  29562.00000  21.00000\n",
       "25%    24.00000   14.00000   3.00000   3.00000  44058.75000  66.00000\n",
       "50%    26.00000   16.00000   3.00000   3.00000  50596.50000  94.00000\n",
       "75%    33.00000   16.00000   4.00000   4.00000  58668.00000 114.75000\n",
       "max    50.00000   21.00000   7.00000   5.00000 104581.00000 360.00000"
      ]
     },
     "execution_count": 290,
     "metadata": {},
     "output_type": "execute_result"
    }
   ],
   "source": [
    "cardiodata.describe()"
   ]
  },
  {
   "cell_type": "markdown",
   "metadata": {},
   "source": [
    "<b><font color='red'>OBSERVATION 1:</font></b> Average overall <b>AGE</b> is 28. Data is right-skewed (mean > median). Age group ranges from 18 (min) to 50 (max).   \n",
    "<b><font color='red'>OBSERVATION 2:</font></b> Average overall <b>EDUCATION</b> is 15 years.   \n",
    "<b><font color='red'>OBSERVATION 3:</font></b> Average overall <b>USAGE</b> is 3.4 times a week.   \n",
    "<b><font color='red'>OBSERVATION 4:</font></b> Average overall <b>FITNESS SCORE</b> is 3.3.     \n",
    "<b><font color='red'>OBSERVATION 5:</font></b> <b>INCOME</b> has a very high standard deviation ie spread of data and is right-skewed (mean > median). This implies that although average income is 53k and the middle 50% of folks are at 44k-58k, there's a large range of folks with higher income that purchase treadmills. Folks with an income lower than 29.5k do not purchase treadmills.   \n",
    "<b><font color='red'>OBSERVATION 6:</font></b> <b>MILES</b> has a very high standard deviation ie spread of data and is right-skewed (mean > median). "
   ]
  },
  {
   "cell_type": "code",
   "execution_count": 291,
   "metadata": {},
   "outputs": [
    {
     "data": {
      "image/png": "[encoded data removed]",
      "text/plain": [
       "<Figure size 432x288 with 2 Axes>"
      ]
     },
     "metadata": {
      "needs_background": "light"
     },
     "output_type": "display_data"
    },
    {
     "data": {
      "image/png": "[encoded data removed]",
      "text/plain": [
       "<Figure size 432x288 with 2 Axes>"
      ]
     },
     "metadata": {
      "needs_background": "light"
     },
     "output_type": "display_data"
    },
    {
     "data": {
      "image/png": "[encoded data removed]",
      "text/plain": [
       "<Figure size 432x288 with 2 Axes>"
      ]
     },
     "metadata": {
      "needs_background": "light"
     },
     "output_type": "display_data"
    },
    {
     "data": {
      "image/png": "[encoded data removed]",
      "text/plain": [
       "<Figure size 432x288 with 2 Axes>"
      ]
     },
     "metadata": {
      "needs_background": "light"
     },
     "output_type": "display_data"
    },
    {
     "data": {
      "image/png": "[encoded data removed]",
      "text/plain": [
       "<Figure size 432x288 with 2 Axes>"
      ]
     },
     "metadata": {
      "needs_background": "light"
     },
     "output_type": "display_data"
    },
    {
     "data": {
      "image/png": "[encoded data removed]",
      "text/plain": [
       "<Figure size 432x288 with 2 Axes>"
      ]
     },
     "metadata": {
      "needs_background": "light"
     },
     "output_type": "display_data"
    }
   ],
   "source": [
    "pretty_distribution_curve(cardiodata,\"Age\")\n",
    "pretty_distribution_curve(cardiodata,\"Education\")\n",
    "pretty_distribution_curve(cardiodata,\"Usage\")\n",
    "pretty_distribution_curve(cardiodata,\"Fitness\")\n",
    "pretty_distribution_curve(cardiodata,\"Income\")\n",
    "pretty_distribution_curve(cardiodata,\"Miles\")"
   ]
  },
  {
   "cell_type": "markdown",
   "metadata": {},
   "source": [
    "<b>Ask is to analyze datasets to find differences between customers of each product. So let us explore what different products there are.</b>"
   ]
  },
  {
   "cell_type": "markdown",
   "metadata": {},
   "source": [
    "### 6] UNIVARIATE/BIVARIATE ANALYSIS: Initial insight onto product-specific data:"
   ]
  },
  {
   "cell_type": "markdown",
   "metadata": {},
   "source": [
    "First, a Univariate Analysis:"
   ]
  },
  {
   "cell_type": "code",
   "execution_count": 292,
   "metadata": {},
   "outputs": [
    {
     "data": {
      "text/plain": [
       "TM195    80\n",
       "TM498    60\n",
       "TM798    40\n",
       "Name: Product, dtype: int64"
      ]
     },
     "execution_count": 292,
     "metadata": {},
     "output_type": "execute_result"
    }
   ],
   "source": [
    "cardiodata.Product.value_counts()"
   ]
  },
  {
   "cell_type": "markdown",
   "metadata": {},
   "source": [
    "<b><font color='red'>OBSERVATION 7:</font></b> M195 is most popular, TM498 is next, and TM798 is the least popular. Half as many customers purchased TM798 as they did TM195."
   ]
  },
  {
   "cell_type": "markdown",
   "metadata": {},
   "source": [
    "Next, a Bivariate approach:"
   ]
  },
  {
   "cell_type": "code",
   "execution_count": 293,
   "metadata": {},
   "outputs": [
    {
     "data": {
      "text/html": [
       "<div>\n",
       "<style scoped>\n",
       "    .dataframe tbody tr th:only-of-type {\n",
       "        vertical-align: middle;\n",
       "    }\n",
       "\n",
       "    .dataframe tbody tr th {\n",
       "        vertical-align: top;\n",
       "    }\n",
       "\n",
       "    .dataframe thead th {\n",
       "        text-align: right;\n",
       "    }\n",
       "</style>\n",
       "<table border=\"1\" class=\"dataframe\">\n",
       "  <thead>\n",
       "    <tr style=\"text-align: right;\">\n",
       "      <th></th>\n",
       "      <th>Age</th>\n",
       "      <th>Education</th>\n",
       "      <th>Usage</th>\n",
       "      <th>Fitness</th>\n",
       "      <th>Income</th>\n",
       "      <th>Miles</th>\n",
       "    </tr>\n",
       "  </thead>\n",
       "  <tbody>\n",
       "    <tr>\n",
       "      <th>count</th>\n",
       "      <td>80.00000</td>\n",
       "      <td>80.00000</td>\n",
       "      <td>80.00000</td>\n",
       "      <td>80.00000</td>\n",
       "      <td>80.00000</td>\n",
       "      <td>80.00000</td>\n",
       "    </tr>\n",
       "    <tr>\n",
       "      <th>mean</th>\n",
       "      <td>28.55000</td>\n",
       "      <td>15.03750</td>\n",
       "      <td>3.08750</td>\n",
       "      <td>2.96250</td>\n",
       "      <td>46418.02500</td>\n",
       "      <td>82.78750</td>\n",
       "    </tr>\n",
       "    <tr>\n",
       "      <th>std</th>\n",
       "      <td>7.22145</td>\n",
       "      <td>1.21638</td>\n",
       "      <td>0.78262</td>\n",
       "      <td>0.66454</td>\n",
       "      <td>9075.78319</td>\n",
       "      <td>28.87410</td>\n",
       "    </tr>\n",
       "    <tr>\n",
       "      <th>min</th>\n",
       "      <td>18.00000</td>\n",
       "      <td>12.00000</td>\n",
       "      <td>2.00000</td>\n",
       "      <td>1.00000</td>\n",
       "      <td>29562.00000</td>\n",
       "      <td>38.00000</td>\n",
       "    </tr>\n",
       "    <tr>\n",
       "      <th>25%</th>\n",
       "      <td>23.00000</td>\n",
       "      <td>14.00000</td>\n",
       "      <td>3.00000</td>\n",
       "      <td>3.00000</td>\n",
       "      <td>38658.00000</td>\n",
       "      <td>66.00000</td>\n",
       "    </tr>\n",
       "    <tr>\n",
       "      <th>50%</th>\n",
       "      <td>26.00000</td>\n",
       "      <td>16.00000</td>\n",
       "      <td>3.00000</td>\n",
       "      <td>3.00000</td>\n",
       "      <td>46617.00000</td>\n",
       "      <td>85.00000</td>\n",
       "    </tr>\n",
       "    <tr>\n",
       "      <th>75%</th>\n",
       "      <td>33.00000</td>\n",
       "      <td>16.00000</td>\n",
       "      <td>4.00000</td>\n",
       "      <td>3.00000</td>\n",
       "      <td>53439.00000</td>\n",
       "      <td>94.00000</td>\n",
       "    </tr>\n",
       "    <tr>\n",
       "      <th>max</th>\n",
       "      <td>50.00000</td>\n",
       "      <td>18.00000</td>\n",
       "      <td>5.00000</td>\n",
       "      <td>5.00000</td>\n",
       "      <td>68220.00000</td>\n",
       "      <td>188.00000</td>\n",
       "    </tr>\n",
       "  </tbody>\n",
       "</table>\n",
       "</div>"
      ],
      "text/plain": [
       "           Age  Education    Usage  Fitness      Income     Miles\n",
       "count 80.00000   80.00000 80.00000 80.00000    80.00000  80.00000\n",
       "mean  28.55000   15.03750  3.08750  2.96250 46418.02500  82.78750\n",
       "std    7.22145    1.21638  0.78262  0.66454  9075.78319  28.87410\n",
       "min   18.00000   12.00000  2.00000  1.00000 29562.00000  38.00000\n",
       "25%   23.00000   14.00000  3.00000  3.00000 38658.00000  66.00000\n",
       "50%   26.00000   16.00000  3.00000  3.00000 46617.00000  85.00000\n",
       "75%   33.00000   16.00000  4.00000  3.00000 53439.00000  94.00000\n",
       "max   50.00000   18.00000  5.00000  5.00000 68220.00000 188.00000"
      ]
     },
     "execution_count": 293,
     "metadata": {},
     "output_type": "execute_result"
    }
   ],
   "source": [
    "cardiodata[cardiodata['Product'] == \"TM195\"].describe()"
   ]
  },
  {
   "cell_type": "code",
   "execution_count": 294,
   "metadata": {},
   "outputs": [
    {
     "data": {
      "text/html": [
       "<div>\n",
       "<style scoped>\n",
       "    .dataframe tbody tr th:only-of-type {\n",
       "        vertical-align: middle;\n",
       "    }\n",
       "\n",
       "    .dataframe tbody tr th {\n",
       "        vertical-align: top;\n",
       "    }\n",
       "\n",
       "    .dataframe thead th {\n",
       "        text-align: right;\n",
       "    }\n",
       "</style>\n",
       "<table border=\"1\" class=\"dataframe\">\n",
       "  <thead>\n",
       "    <tr style=\"text-align: right;\">\n",
       "      <th></th>\n",
       "      <th>Age</th>\n",
       "      <th>Education</th>\n",
       "      <th>Usage</th>\n",
       "      <th>Fitness</th>\n",
       "      <th>Income</th>\n",
       "      <th>Miles</th>\n",
       "    </tr>\n",
       "  </thead>\n",
       "  <tbody>\n",
       "    <tr>\n",
       "      <th>count</th>\n",
       "      <td>60.00000</td>\n",
       "      <td>60.00000</td>\n",
       "      <td>60.00000</td>\n",
       "      <td>60.00000</td>\n",
       "      <td>60.00000</td>\n",
       "      <td>60.00000</td>\n",
       "    </tr>\n",
       "    <tr>\n",
       "      <th>mean</th>\n",
       "      <td>28.90000</td>\n",
       "      <td>15.11667</td>\n",
       "      <td>3.06667</td>\n",
       "      <td>2.90000</td>\n",
       "      <td>48973.65000</td>\n",
       "      <td>87.93333</td>\n",
       "    </tr>\n",
       "    <tr>\n",
       "      <th>std</th>\n",
       "      <td>6.64525</td>\n",
       "      <td>1.22255</td>\n",
       "      <td>0.79972</td>\n",
       "      <td>0.62977</td>\n",
       "      <td>8653.98939</td>\n",
       "      <td>33.26314</td>\n",
       "    </tr>\n",
       "    <tr>\n",
       "      <th>min</th>\n",
       "      <td>19.00000</td>\n",
       "      <td>12.00000</td>\n",
       "      <td>2.00000</td>\n",
       "      <td>1.00000</td>\n",
       "      <td>31836.00000</td>\n",
       "      <td>21.00000</td>\n",
       "    </tr>\n",
       "    <tr>\n",
       "      <th>25%</th>\n",
       "      <td>24.00000</td>\n",
       "      <td>14.00000</td>\n",
       "      <td>3.00000</td>\n",
       "      <td>3.00000</td>\n",
       "      <td>44911.50000</td>\n",
       "      <td>64.00000</td>\n",
       "    </tr>\n",
       "    <tr>\n",
       "      <th>50%</th>\n",
       "      <td>26.00000</td>\n",
       "      <td>16.00000</td>\n",
       "      <td>3.00000</td>\n",
       "      <td>3.00000</td>\n",
       "      <td>49459.50000</td>\n",
       "      <td>85.00000</td>\n",
       "    </tr>\n",
       "    <tr>\n",
       "      <th>75%</th>\n",
       "      <td>33.25000</td>\n",
       "      <td>16.00000</td>\n",
       "      <td>3.25000</td>\n",
       "      <td>3.00000</td>\n",
       "      <td>53439.00000</td>\n",
       "      <td>106.00000</td>\n",
       "    </tr>\n",
       "    <tr>\n",
       "      <th>max</th>\n",
       "      <td>48.00000</td>\n",
       "      <td>18.00000</td>\n",
       "      <td>5.00000</td>\n",
       "      <td>4.00000</td>\n",
       "      <td>67083.00000</td>\n",
       "      <td>212.00000</td>\n",
       "    </tr>\n",
       "  </tbody>\n",
       "</table>\n",
       "</div>"
      ],
      "text/plain": [
       "           Age  Education    Usage  Fitness      Income     Miles\n",
       "count 60.00000   60.00000 60.00000 60.00000    60.00000  60.00000\n",
       "mean  28.90000   15.11667  3.06667  2.90000 48973.65000  87.93333\n",
       "std    6.64525    1.22255  0.79972  0.62977  8653.98939  33.26314\n",
       "min   19.00000   12.00000  2.00000  1.00000 31836.00000  21.00000\n",
       "25%   24.00000   14.00000  3.00000  3.00000 44911.50000  64.00000\n",
       "50%   26.00000   16.00000  3.00000  3.00000 49459.50000  85.00000\n",
       "75%   33.25000   16.00000  3.25000  3.00000 53439.00000 106.00000\n",
       "max   48.00000   18.00000  5.00000  4.00000 67083.00000 212.00000"
      ]
     },
     "execution_count": 294,
     "metadata": {},
     "output_type": "execute_result"
    }
   ],
   "source": [
    "cardiodata[cardiodata['Product'] == \"TM498\"].describe()"
   ]
  },
  {
   "cell_type": "markdown",
   "metadata": {},
   "source": [
    "<b><u>TM195 and TM498 OBSERVATIONS</u></b>   \n",
    "   <b><font color='red'>OBSERVATION 8:</font></b> The dataset for TM195/TM498 is very similar, but some differences are that the avg income is a bit lower for TM195, and that there is a slightly higher number of miles ran.</font>   \n",
    "   <b><font color='red'>OBSERVATION 9:</font></b> For TM195, the avg income lines up exactly with median (50% quartile) income, and there is a lower std deviation. So it's safe to say that the avg income for someone using TM195 is around 46k.</font>"
   ]
  },
  {
   "cell_type": "code",
   "execution_count": 295,
   "metadata": {},
   "outputs": [
    {
     "data": {
      "text/html": [
       "<div>\n",
       "<style scoped>\n",
       "    .dataframe tbody tr th:only-of-type {\n",
       "        vertical-align: middle;\n",
       "    }\n",
       "\n",
       "    .dataframe tbody tr th {\n",
       "        vertical-align: top;\n",
       "    }\n",
       "\n",
       "    .dataframe thead th {\n",
       "        text-align: right;\n",
       "    }\n",
       "</style>\n",
       "<table border=\"1\" class=\"dataframe\">\n",
       "  <thead>\n",
       "    <tr style=\"text-align: right;\">\n",
       "      <th></th>\n",
       "      <th>Age</th>\n",
       "      <th>Education</th>\n",
       "      <th>Usage</th>\n",
       "      <th>Fitness</th>\n",
       "      <th>Income</th>\n",
       "      <th>Miles</th>\n",
       "    </tr>\n",
       "  </thead>\n",
       "  <tbody>\n",
       "    <tr>\n",
       "      <th>count</th>\n",
       "      <td>40.00000</td>\n",
       "      <td>40.00000</td>\n",
       "      <td>40.00000</td>\n",
       "      <td>40.00000</td>\n",
       "      <td>40.00000</td>\n",
       "      <td>40.00000</td>\n",
       "    </tr>\n",
       "    <tr>\n",
       "      <th>mean</th>\n",
       "      <td>29.10000</td>\n",
       "      <td>17.32500</td>\n",
       "      <td>4.77500</td>\n",
       "      <td>4.62500</td>\n",
       "      <td>75441.57500</td>\n",
       "      <td>166.90000</td>\n",
       "    </tr>\n",
       "    <tr>\n",
       "      <th>std</th>\n",
       "      <td>6.97174</td>\n",
       "      <td>1.63907</td>\n",
       "      <td>0.94699</td>\n",
       "      <td>0.66747</td>\n",
       "      <td>18505.83672</td>\n",
       "      <td>60.06654</td>\n",
       "    </tr>\n",
       "    <tr>\n",
       "      <th>min</th>\n",
       "      <td>22.00000</td>\n",
       "      <td>14.00000</td>\n",
       "      <td>3.00000</td>\n",
       "      <td>3.00000</td>\n",
       "      <td>48556.00000</td>\n",
       "      <td>80.00000</td>\n",
       "    </tr>\n",
       "    <tr>\n",
       "      <th>25%</th>\n",
       "      <td>24.75000</td>\n",
       "      <td>16.00000</td>\n",
       "      <td>4.00000</td>\n",
       "      <td>4.00000</td>\n",
       "      <td>58204.75000</td>\n",
       "      <td>120.00000</td>\n",
       "    </tr>\n",
       "    <tr>\n",
       "      <th>50%</th>\n",
       "      <td>27.00000</td>\n",
       "      <td>18.00000</td>\n",
       "      <td>5.00000</td>\n",
       "      <td>5.00000</td>\n",
       "      <td>76568.50000</td>\n",
       "      <td>160.00000</td>\n",
       "    </tr>\n",
       "    <tr>\n",
       "      <th>75%</th>\n",
       "      <td>30.25000</td>\n",
       "      <td>18.00000</td>\n",
       "      <td>5.00000</td>\n",
       "      <td>5.00000</td>\n",
       "      <td>90886.00000</td>\n",
       "      <td>200.00000</td>\n",
       "    </tr>\n",
       "    <tr>\n",
       "      <th>max</th>\n",
       "      <td>48.00000</td>\n",
       "      <td>21.00000</td>\n",
       "      <td>7.00000</td>\n",
       "      <td>5.00000</td>\n",
       "      <td>104581.00000</td>\n",
       "      <td>360.00000</td>\n",
       "    </tr>\n",
       "  </tbody>\n",
       "</table>\n",
       "</div>"
      ],
      "text/plain": [
       "           Age  Education    Usage  Fitness       Income     Miles\n",
       "count 40.00000   40.00000 40.00000 40.00000     40.00000  40.00000\n",
       "mean  29.10000   17.32500  4.77500  4.62500  75441.57500 166.90000\n",
       "std    6.97174    1.63907  0.94699  0.66747  18505.83672  60.06654\n",
       "min   22.00000   14.00000  3.00000  3.00000  48556.00000  80.00000\n",
       "25%   24.75000   16.00000  4.00000  4.00000  58204.75000 120.00000\n",
       "50%   27.00000   18.00000  5.00000  5.00000  76568.50000 160.00000\n",
       "75%   30.25000   18.00000  5.00000  5.00000  90886.00000 200.00000\n",
       "max   48.00000   21.00000  7.00000  5.00000 104581.00000 360.00000"
      ]
     },
     "execution_count": 295,
     "metadata": {},
     "output_type": "execute_result"
    }
   ],
   "source": [
    "cardiodata[cardiodata['Product'] == \"TM798\"].describe()"
   ]
  },
  {
   "cell_type": "markdown",
   "metadata": {},
   "source": [
    "<b><u>TM798 OBSERVATIONS</u></b>   \n",
    "   <b><font color='red'>OBSERVATION 10: </font></b> Customers for TM798 have a much higher avg <b>INCOME</b> (75k) vs customers of TM195 and TM498 (46-49k). Also, income has humungous std deviation as compared to overall set of data and TM195/TM498 although average income is quite close to median ie 50% quartile. Income data is very spread out although value is higher.</font>   \n",
    "   <b><font color='red'>OBSERVATION 11: </font></b>TM798 customers have a higher avg <b>USAGE</b> of about one day. Average usage is approximately 4.7 times a day, ranging from 3-7 times a week, versus a range of 2-5 days a week for TM195 and TM498.</font>   \n",
    "   <b><font color='red'>OBSERVATION 12: </font></b>TM798 customers have a <b>FITNESS</b> level (move than 1.5 higher).</font>   \n",
    "   <b><font color='red'>OBSERVATION 13: </font></b>TM798 customers a significantly higher # of <b> MILES </b> expected to run. This comes as no surprise as the TM798 customers already have a higher usage and fitness level in addition to larger number of miles ran.</font>  \n",
    "   <b><font color='red'>OBSERVATION 14: </font></b>TM798 customers have a higher <b>EDUCATION</b> level than TM195 and TM498 customers of an average of 17 years.</font>"
   ]
  },
  {
   "cell_type": "code",
   "execution_count": 296,
   "metadata": {},
   "outputs": [
    {
     "data": {
      "image/png": "[encoded data removed]",
      "text/plain": [
       "<Figure size 432x288 with 1 Axes>"
      ]
     },
     "metadata": {
      "needs_background": "light"
     },
     "output_type": "display_data"
    }
   ],
   "source": [
    "sns.barplot(cardiodata['Product'],cardiodata['Income']);"
   ]
  },
  {
   "cell_type": "code",
   "execution_count": 297,
   "metadata": {},
   "outputs": [
    {
     "data": {
      "image/png": "[encoded data removed]",
      "text/plain": [
       "<Figure size 432x288 with 1 Axes>"
      ]
     },
     "metadata": {
      "needs_background": "light"
     },
     "output_type": "display_data"
    }
   ],
   "source": [
    "sns.barplot(cardiodata['Product'],cardiodata['Usage']);"
   ]
  },
  {
   "cell_type": "code",
   "execution_count": 298,
   "metadata": {},
   "outputs": [
    {
     "data": {
      "image/png": "[encoded data removed]",
      "text/plain": [
       "<Figure size 432x288 with 1 Axes>"
      ]
     },
     "metadata": {
      "needs_background": "light"
     },
     "output_type": "display_data"
    }
   ],
   "source": [
    "sns.barplot(cardiodata['Product'],cardiodata['Fitness']);"
   ]
  },
  {
   "cell_type": "code",
   "execution_count": 299,
   "metadata": {},
   "outputs": [
    {
     "data": {
      "image/png": "[encoded data removed]",
      "text/plain": [
       "<Figure size 432x288 with 1 Axes>"
      ]
     },
     "metadata": {
      "needs_background": "light"
     },
     "output_type": "display_data"
    }
   ],
   "source": [
    "sns.barplot(cardiodata['Product'],cardiodata['Miles']);"
   ]
  },
  {
   "cell_type": "code",
   "execution_count": 300,
   "metadata": {},
   "outputs": [
    {
     "data": {
      "image/png": "[encoded data removed]",
      "text/plain": [
       "<Figure size 432x288 with 1 Axes>"
      ]
     },
     "metadata": {
      "needs_background": "light"
     },
     "output_type": "display_data"
    }
   ],
   "source": [
    "sns.barplot(cardiodata['Product'],cardiodata['Education']);"
   ]
  },
  {
   "cell_type": "markdown",
   "metadata": {},
   "source": [
    "### 7] UNIVARIATE/BIVARIATE ANALYSIS: Explore Qualitative Factors i.e. Genders/Maritial Status vs Product Lines"
   ]
  },
  {
   "cell_type": "markdown",
   "metadata": {},
   "source": [
    "First, Gender (overall):"
   ]
  },
  {
   "cell_type": "code",
   "execution_count": 301,
   "metadata": {},
   "outputs": [
    {
     "data": {
      "text/plain": [
       "Male      104\n",
       "Female     76\n",
       "Name: Gender, dtype: int64"
      ]
     },
     "execution_count": 301,
     "metadata": {},
     "output_type": "execute_result"
    }
   ],
   "source": [
    "cardiodata.Gender.value_counts()"
   ]
  },
  {
   "cell_type": "code",
   "execution_count": 302,
   "metadata": {},
   "outputs": [
    {
     "data": {
      "text/plain": [
       "(array([104.,  76.]),\n",
       " array([0. , 0.5, 1. ]),\n",
       " <BarContainer object of 2 artists>)"
      ]
     },
     "execution_count": 302,
     "metadata": {},
     "output_type": "execute_result"
    },
    {
     "data": {
      "image/png": "[encoded data removed]",
      "text/plain": [
       "<Figure size 144x360 with 1 Axes>"
      ]
     },
     "metadata": {
      "needs_background": "light"
     },
     "output_type": "display_data"
    }
   ],
   "source": [
    "plt.figure(figsize=(2,5))\n",
    "plt.hist(cardiodata['Gender'],bins=2,ec=\"white\")"
   ]
  },
  {
   "cell_type": "markdown",
   "metadata": {},
   "source": [
    "Next, Gender by Productline (BIVARIATE):"
   ]
  },
  {
   "cell_type": "code",
   "execution_count": 303,
   "metadata": {},
   "outputs": [
    {
     "data": {
      "text/plain": [
       "Female    40\n",
       "Male      40\n",
       "Name: Gender, dtype: int64"
      ]
     },
     "execution_count": 303,
     "metadata": {},
     "output_type": "execute_result"
    }
   ],
   "source": [
    "cardiodata[cardiodata['Product'] == \"TM195\"].Gender.value_counts()"
   ]
  },
  {
   "cell_type": "code",
   "execution_count": 304,
   "metadata": {},
   "outputs": [
    {
     "data": {
      "text/plain": [
       "(array([40., 40.]), array([0. , 0.5, 1. ]), <BarContainer object of 2 artists>)"
      ]
     },
     "execution_count": 304,
     "metadata": {},
     "output_type": "execute_result"
    },
    {
     "data": {
      "image/png": "[encoded data removed]",
      "text/plain": [
       "<Figure size 144x360 with 1 Axes>"
      ]
     },
     "metadata": {
      "needs_background": "light"
     },
     "output_type": "display_data"
    }
   ],
   "source": [
    "plt.figure(figsize=(2,5))\n",
    "plt.hist(cardiodata[cardiodata['Product'] == \"TM195\"].Gender,bins=2,ec=\"white\")"
   ]
  },
  {
   "cell_type": "code",
   "execution_count": 305,
   "metadata": {},
   "outputs": [
    {
     "data": {
      "text/plain": [
       "Male      31\n",
       "Female    29\n",
       "Name: Gender, dtype: int64"
      ]
     },
     "execution_count": 305,
     "metadata": {},
     "output_type": "execute_result"
    }
   ],
   "source": [
    "cardiodata[cardiodata['Product'] == \"TM498\"].Gender.value_counts()"
   ]
  },
  {
   "cell_type": "code",
   "execution_count": 306,
   "metadata": {},
   "outputs": [
    {
     "data": {
      "text/plain": [
       "(array([31., 29.]), array([0. , 0.5, 1. ]), <BarContainer object of 2 artists>)"
      ]
     },
     "execution_count": 306,
     "metadata": {},
     "output_type": "execute_result"
    },
    {
     "data": {
      "image/png": "[encoded data removed]",
      "text/plain": [
       "<Figure size 144x360 with 1 Axes>"
      ]
     },
     "metadata": {
      "needs_background": "light"
     },
     "output_type": "display_data"
    }
   ],
   "source": [
    "plt.figure(figsize=(2,5))\n",
    "plt.hist(cardiodata[cardiodata['Product'] == \"TM498\"].Gender,bins=2,ec=\"white\")"
   ]
  },
  {
   "cell_type": "code",
   "execution_count": 307,
   "metadata": {},
   "outputs": [
    {
     "data": {
      "text/plain": [
       "Male      33\n",
       "Female     7\n",
       "Name: Gender, dtype: int64"
      ]
     },
     "execution_count": 307,
     "metadata": {},
     "output_type": "execute_result"
    }
   ],
   "source": [
    "cardiodata[cardiodata['Product'] == \"TM798\"].Gender.value_counts()"
   ]
  },
  {
   "cell_type": "code",
   "execution_count": 308,
   "metadata": {},
   "outputs": [
    {
     "data": {
      "text/plain": [
       "(array([33.,  7.]), array([0. , 0.5, 1. ]), <BarContainer object of 2 artists>)"
      ]
     },
     "execution_count": 308,
     "metadata": {},
     "output_type": "execute_result"
    },
    {
     "data": {
      "image/png": "[encoded data removed]",
      "text/plain": [
       "<Figure size 144x360 with 1 Axes>"
      ]
     },
     "metadata": {
      "needs_background": "light"
     },
     "output_type": "display_data"
    }
   ],
   "source": [
    "plt.figure(figsize=(2,5))\n",
    "plt.hist(cardiodata[cardiodata['Product'] == \"TM798\"].Gender,bins=2,ec=\"white\")"
   ]
  },
  {
   "cell_type": "markdown",
   "metadata": {},
   "source": [
    "<b><font color='red'>OBSERVATION 15: </font></b>More men tend to buy treadmills than women. TM198 and TM498 were purchased by about the same number of men & women, but many more men purchased TM798 than women.</font> "
   ]
  },
  {
   "cell_type": "markdown",
   "metadata": {},
   "source": [
    "#### Next, Maritial Status (UNIVARIATE):"
   ]
  },
  {
   "cell_type": "code",
   "execution_count": 309,
   "metadata": {},
   "outputs": [
    {
     "data": {
      "text/plain": [
       "Partnered    107\n",
       "Single        73\n",
       "Name: MaritalStatus, dtype: int64"
      ]
     },
     "execution_count": 309,
     "metadata": {},
     "output_type": "execute_result"
    }
   ],
   "source": [
    "cardiodata.MaritalStatus.value_counts()"
   ]
  },
  {
   "cell_type": "markdown",
   "metadata": {},
   "source": [
    "#### Next, Maritial Status (BIVARIATE):"
   ]
  },
  {
   "cell_type": "code",
   "execution_count": 310,
   "metadata": {},
   "outputs": [
    {
     "data": {
      "text/plain": [
       "Partnered    48\n",
       "Single       32\n",
       "Name: MaritalStatus, dtype: int64"
      ]
     },
     "execution_count": 310,
     "metadata": {},
     "output_type": "execute_result"
    }
   ],
   "source": [
    "cardiodata[cardiodata['Product'] == \"TM195\"].MaritalStatus.value_counts() "
   ]
  },
  {
   "cell_type": "code",
   "execution_count": 311,
   "metadata": {},
   "outputs": [
    {
     "data": {
      "text/plain": [
       "Partnered    36\n",
       "Single       24\n",
       "Name: MaritalStatus, dtype: int64"
      ]
     },
     "execution_count": 311,
     "metadata": {},
     "output_type": "execute_result"
    }
   ],
   "source": [
    "cardiodata[cardiodata['Product'] == \"TM498\"].MaritalStatus.value_counts()"
   ]
  },
  {
   "cell_type": "code",
   "execution_count": 312,
   "metadata": {},
   "outputs": [
    {
     "data": {
      "text/plain": [
       "Partnered    23\n",
       "Single       17\n",
       "Name: MaritalStatus, dtype: int64"
      ]
     },
     "execution_count": 312,
     "metadata": {},
     "output_type": "execute_result"
    }
   ],
   "source": [
    "cardiodata[cardiodata['Product'] == \"TM798\"].MaritalStatus.value_counts()"
   ]
  },
  {
   "cell_type": "code",
   "execution_count": 313,
   "metadata": {},
   "outputs": [
    {
     "data": {
      "text/plain": [
       "(array([ 73., 107.]),\n",
       " array([0. , 0.5, 1. ]),\n",
       " <BarContainer object of 2 artists>)"
      ]
     },
     "execution_count": 313,
     "metadata": {},
     "output_type": "execute_result"
    },
    {
     "data": {
      "image/png": "[encoded data removed]",
      "text/plain": [
       "<Figure size 144x360 with 1 Axes>"
      ]
     },
     "metadata": {
      "needs_background": "light"
     },
     "output_type": "display_data"
    }
   ],
   "source": [
    "plt.figure(figsize=(2,5))\n",
    "plt.hist(cardiodata['MaritalStatus'],bins=2,ec=\"white\")"
   ]
  },
  {
   "cell_type": "markdown",
   "metadata": {},
   "source": [
    "<b><font color='red'>OBSERVATION 16: </font></b>From both overall data and by product-line, it's evident that more partnered folks seem to buy treadmills than singles.</font> "
   ]
  },
  {
   "cell_type": "markdown",
   "metadata": {},
   "source": [
    "### 8] MULTIVARIATE ANALYSIS: HeatMap"
   ]
  },
  {
   "cell_type": "markdown",
   "metadata": {},
   "source": [
    "First, an overall heatmap:"
   ]
  },
  {
   "cell_type": "code",
   "execution_count": 314,
   "metadata": {},
   "outputs": [
    {
     "data": {
      "text/plain": [
       "<AxesSubplot:>"
      ]
     },
     "execution_count": 314,
     "metadata": {},
     "output_type": "execute_result"
    },
    {
     "data": {
      "image/png": "[encoded data removed]",
      "text/plain": [
       "<Figure size 432x288 with 2 Axes>"
      ]
     },
     "metadata": {
      "needs_background": "light"
     },
     "output_type": "display_data"
    }
   ],
   "source": [
    "sns.heatmap(cardiodata.corr(), annot=True)  # plot the correlation coefficients as a heatmap"
   ]
  },
  {
   "cell_type": "markdown",
   "metadata": {},
   "source": [
    "<b><font color='red'>OBSERVATION 17: </font></b>Overall, we see a positive correlation for: Fitness/Miles, Usage/Miles. This means that the fitter a customer is, the more miles they're likely to run on a treadmill. Similarly, as this may be fairly obvious: the more a customer uses a treadmill, the more miles they'll run. It is interesting here, however, that there is less correlation between Usage/Fitness, ie. that a customer with high treadmill usage does not indicate high fitess, and vice versa that a customer with high fitness does not indicate high treadmill usage.</font> "
   ]
  },
  {
   "cell_type": "markdown",
   "metadata": {},
   "source": [
    "Next, heatmaps by product to see if any correlation changes are there:"
   ]
  },
  {
   "cell_type": "code",
   "execution_count": 315,
   "metadata": {},
   "outputs": [
    {
     "data": {
      "text/plain": [
       "<AxesSubplot:>"
      ]
     },
     "execution_count": 315,
     "metadata": {},
     "output_type": "execute_result"
    },
    {
     "data": {
      "image/png": "[encoded data removed]",
      "text/plain": [
       "<Figure size 432x288 with 2 Axes>"
      ]
     },
     "metadata": {
      "needs_background": "light"
     },
     "output_type": "display_data"
    }
   ],
   "source": [
    "sns.heatmap(cardiodata[cardiodata['Product'] == \"TM195\"].corr(), annot=True)  # plot the correlation coefficients as a heatmap"
   ]
  },
  {
   "cell_type": "code",
   "execution_count": 316,
   "metadata": {},
   "outputs": [
    {
     "data": {
      "text/plain": [
       "<AxesSubplot:>"
      ]
     },
     "execution_count": 316,
     "metadata": {},
     "output_type": "execute_result"
    },
    {
     "data": {
      "image/png": "[encoded data removed]",
      "text/plain": [
       "<Figure size 432x288 with 2 Axes>"
      ]
     },
     "metadata": {
      "needs_background": "light"
     },
     "output_type": "display_data"
    }
   ],
   "source": [
    "sns.heatmap(cardiodata[cardiodata['Product'] == \"TM498\"].corr(), annot=True)  # plot the correlation coefficients as a heatmap"
   ]
  },
  {
   "cell_type": "markdown",
   "metadata": {},
   "source": [
    "<b><font color='red'>OBSERVATION 18: </font></b>\n",
    "For TM195 and TM498, although the patterns in positive correlation drop a little but still remain strong, there is strong pattern here that the higher the age, the higher the income of customers. This is definitely something to note from a business standpoint when catering to higher income audiences.</font> "
   ]
  },
  {
   "cell_type": "code",
   "execution_count": 317,
   "metadata": {},
   "outputs": [
    {
     "data": {
      "text/plain": [
       "<AxesSubplot:>"
      ]
     },
     "execution_count": 317,
     "metadata": {},
     "output_type": "execute_result"
    },
    {
     "data": {
      "image/png": "[encoded data removed]",
      "text/plain": [
       "<Figure size 432x288 with 2 Axes>"
      ]
     },
     "metadata": {
      "needs_background": "light"
     },
     "output_type": "display_data"
    }
   ],
   "source": [
    "sns.heatmap(cardiodata[cardiodata['Product'] == \"TM798\"].corr(), annot=True)  # plot the correlation coefficients as a heatmap"
   ]
  },
  {
   "cell_type": "markdown",
   "metadata": {},
   "source": [
    "<b><font color='red'>OBSERVATION 19: </font></b>For TM798, we actually see a drop in correlation that the fitter the customer is, the more miles they'll run on the treadmill. It also looks like there's a drop in the earlier statement that higher treadmill usage indicates more miles ran. This may be due to the fact that men using this treadmill utilize the TM798 as part of their extended workout. This treadmill seems to sell well for those with established workouts ie experienced folks.</font>"
   ]
  },
  {
   "cell_type": "markdown",
   "metadata": {},
   "source": [
    "### 8] Conclusion and Recommendations"
   ]
  },
  {
   "cell_type": "markdown",
   "metadata": {},
   "source": [
    "For review, here is a collective list of observations made during this analysis:"
   ]
  },
  {
   "cell_type": "markdown",
   "metadata": {},
   "source": [
    "From the observations made throughout the investigation, here is the following we can state about the customers that have purchased any of the product lines <b>OVERALL</b>:\n",
    "<ul>\n",
    "    <li>Average age is 28, skewed right. Range is from 18-50.<b><font color='red'> (OBSERVATION 1)</font></b> </li>\n",
    "    <li>Average education is 15 years.<b><font color='red'> (OBSERVATION 2)</font></b></li>\n",
    "    <li>Average usage is 3.4 times a week.<b><font color='red'> (OBSERVATION 3)</font></b></li>\n",
    "    <li>Average fitness score/level is fitness is 3.3.<b><font color='red'> (OBSERVATION 4)</font></b></li>\n",
    "    <li>Average income is 53k and the middle 50% of folks are at 44k-58k, but this is right skewed and there is a higher income population that purchases treadmills (up to 104k). Folks with an income lower than 29.5k do not purchase treadmills.<b><font color='red'> (OBSERVATION 5)</font></b></li>\n",
    "    <li>Number of miles ran is very much spread out and is right-skewed.Ranges from 21-360 miles ran.<b><font color='red'> (OBSERVATION 6)</font></b></li>\n",
    "    <li>More men purchase treadmills than women.<b><font color='red'> (OBSERVATION 15)</font></b></li>\n",
    "    <li>More partnered folks tend to buy treadmills than singles.<b><font color='red'> (OBSERVATION 16)</font></b></li>\n",
    "</ul>\n",
    "    \n",
    "Specific to <b>TM195</b>:\n",
    "<ul>\n",
    "    <li>TM195 is the most popular.<b><font color='red'> (OBSERVATION 7)</font></b></li>\n",
    "    <li>The target audience for TM195 and TM498 is very similar, but the difference is that the average income is a bit lower for TM195 and also a slightly higher number of miles ran.<b><font color='red'> (OBSERVATION 8)</font></b></li>\n",
    "    <li>Average salary of customers purchasing this is 46k, ranging from 24k onward.<b><font color='red'> (OBSERVATION 9)</font></b></li>\n",
    "    <li>The same number of men purchased TM195 as women.<b><font color='red'> (OBSERVATION 15)</font></b></li>\n",
    "    <li>The fitter the customer, the higher their treadmill usage. Similarly, The more a customer uses a treadmill, the higher their weekly usage.<b><font color='red'> (OBSERVATION 17)</font></b></li>\n",
    "    <li>The higher the age of the customer, the higher their income.<b><font color='red'> (OBSERVATION 18)</font></b></li>\n",
    "</ul>\n",
    "\n",
    "Specific to <b>TM498</b>:\n",
    "<ul>\n",
    "    <li>M498 is second most popular, with a slightly higher average income and number of miles ran than TM195.<b><font color='red'> (OBSERVATION 7)</font></b></li>\n",
    "    <li>The same number of men purchased TM498 as women.<b><font color='red'> (OBSERVATION 15)</font></b></li>\n",
    "    <li>The fitter the customer, the higher their treadmill usage. Similarly, The more a customer uses a treadmill, the higher their weekly usage.<b><font color='red'> (OBSERVATION 17)</font></b></li>\n",
    "    <li>The higher the age of the customer, the higher their income.<b><font color='red'> (OBSERVATION 18)</font></b></li>\n",
    "\n",
    "</ul>\n",
    "\n",
    "Specific to <b>TM798</b>:\n",
    "<ul>\n",
    "    <li>TM798 is the least popular; half as many of TM798 were sold at TM195.<b><font color='red'> (OBSERVATION 7)</font></b></li>\n",
    "    <li>Customers purchasing TM798 have the highest income (~75k). Standard deviation is very high, and income is right skewed starting at 48k-104k. <b><font color='red'> (OBSERVATION 10)</font></b></li>\n",
    "    <li>People that use TM798 had the highest average usage, highest fitness level, higher number of miles ran, and highest education level.<b><font color='red'> (OBSERVATION 11-14)</font></b></li>\n",
    "    <li>More men purchased TM798 then women.<b><font color='red'> (OBSERVATION 15)</font></b></li>\n",
    "    <li>In this case, we cannot say that the fitter the customer the higher the number of miles they will run or that high treadmill usage indicates more miles ran; it seems that this is the bestseller for those that already have an established fitness routine that include treadmills as part of their workout plan. This is evident by the fact that the audience is the most fit and runs the most number of miles, but that we cannot correlate their high usage to this.<b><font color='red'> (OBSERVATION 19)</font></b></li>\n",
    "</ul>"
   ]
  },
  {
   "cell_type": "markdown",
   "metadata": {},
   "source": [
    "Recommendations:\n",
    "- TM195 is the cheapest option, likely for the largest audience. This includes beginners. Cater TM498 as a step-up, and cater TM798 to advanced users. \n",
    "- The age range of folks using the treadmills is 18-50 years old.\n",
    "- Make the TM195 priced cheapest considering it's the best seller, and price accordingly assuming an average income of 46k. TM498 can be priced slightly higher as individuals that had purchased this had a slightly higher salary and treadmill usage; utilize the fact that higher age means higher income. TM798 can be priced most expensive as it is purchased by motivated, high-income individuals.\n",
    "- Cater advertisements to couples and not to singles.\n",
    "- Cater advertisements cognizant that the same number of men and women purchase TM195 and TM498, but that more men purchase TM798. \n",
    "- For TM195 and TM498, cater advertisements encouraging folks to work out utilizing treadmills.\n",
    "- For TM798, cater advertisements to include treadmills as part of the workout."
   ]
  }
 ],
 "metadata": {
  "kernelspec": {
   "display_name": "Python 3",
   "language": "python",
   "name": "python3"
  },
  "language_info": {
   "codemirror_mode": {
    "name": "ipython",
    "version": 3
   },
   "file_extension": ".py",
   "mimetype": "text/x-python",
   "name": "python",
   "nbconvert_exporter": "python",
   "pygments_lexer": "ipython3",
   "version": "3.8.5"
  }
 },
 "nbformat": 4,
 "nbformat_minor": 4
}
